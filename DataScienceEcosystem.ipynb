{
 "cells": [
  {
   "cell_type": "markdown",
   "id": "f316bbd9-e627-4469-8a27-5ea344e83356",
   "metadata": {},
   "source": [
    "## DataScienceEcosystem"
   ]
  },
  {
   "cell_type": "markdown",
   "id": "77ecf6bc-38d1-4b32-85eb-61790d6f9091",
   "metadata": {},
   "source": [
    "In this notebook, Data Science Tools and Ecosystem are summarized."
   ]
  },
  {
   "cell_type": "markdown",
   "id": "2017c04d-3a40-463d-9337-f67d02f24580",
   "metadata": {},
   "source": [
    "## Author \n",
    " Mohammed Albaqawi"
   ]
  },
  {
   "cell_type": "markdown",
   "id": "9f8df9f8-d94a-4485-9b9e-f9d9c92fdca8",
   "metadata": {},
   "source": [
    "Some of the popular languages that Data Scientists use are:\n",
    "1. python\n",
    "2. R\n",
    "3. Java\n"
   ]
  },
  {
   "cell_type": "markdown",
   "id": "12cdb289-3f20-4652-8886-cd040c7bb2c7",
   "metadata": {},
   "source": [
    "Some of the commonly used libraries used by Data Scientists include:\n",
    "|Data Science Tools|\n",
    "|---------------|\n",
    "|Jubyter|\n",
    "|Rstudio|\n",
    "|watson|\n"
   ]
  },
  {
   "cell_type": "markdown",
   "id": "296e8d2f-55d9-4b2d-b833-6d19c612ce38",
   "metadata": {},
   "source": [
    "Some of the commonly used libraries used by Data Scientists include:\n",
    "* panda\n",
    "* numby\n",
    "  "
   ]
  },
  {
   "cell_type": "markdown",
   "id": "d1349836-b31e-409f-b1ec-f77429ed535d",
   "metadata": {},
   "source": [
    "### Below are a few examples of evaluating arithmetic expressions in Python."
   ]
  },
  {
   "cell_type": "code",
   "execution_count": 2,
   "id": "ff30930b-869a-483b-93ab-55482e91cca4",
   "metadata": {},
   "outputs": [
    {
     "data": {
      "text/plain": [
       "17"
      ]
     },
     "execution_count": 2,
     "metadata": {},
     "output_type": "execute_result"
    }
   ],
   "source": [
    "(3*4)+5"
   ]
  },
  {
   "cell_type": "code",
   "execution_count": 3,
   "id": "4acd382d-f9d3-43fc-a43b-df6afffcd8f2",
   "metadata": {},
   "outputs": [
    {
     "data": {
      "text/plain": [
       "3.3333333333333335"
      ]
     },
     "execution_count": 3,
     "metadata": {},
     "output_type": "execute_result"
    }
   ],
   "source": [
    "# This will convert 200 minutes to hours by diving by 60.\n",
    "200/60"
   ]
  },
  {
   "cell_type": "code",
   "execution_count": null,
   "id": "be6f58e1-6c24-4d95-887c-06dfe1ab2271",
   "metadata": {},
   "outputs": [],
   "source": []
  }
 ],
 "metadata": {
  "kernelspec": {
   "display_name": "Python 3 (ipykernel)",
   "language": "python",
   "name": "python3"
  },
  "language_info": {
   "codemirror_mode": {
    "name": "ipython",
    "version": 3
   },
   "file_extension": ".py",
   "mimetype": "text/x-python",
   "name": "python",
   "nbconvert_exporter": "python",
   "pygments_lexer": "ipython3",
   "version": "3.11.9"
  }
 },
 "nbformat": 4,
 "nbformat_minor": 5
}
